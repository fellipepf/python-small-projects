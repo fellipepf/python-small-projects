{
  "nbformat": 4,
  "nbformat_minor": 0,
  "metadata": {
    "colab": {
      "name": "list_comprehension_for_loop.ipynb",
      "provenance": []
    },
    "kernelspec": {
      "name": "python3",
      "display_name": "Python 3"
    },
    "language_info": {
      "name": "python"
    }
  },
  "cells": [
    {
      "cell_type": "code",
      "execution_count": 3,
      "metadata": {
        "id": "r1RyL57_8t8b"
      },
      "outputs": [],
      "source": [
        "fruits = [\"apple\", \"orange\", \"grapes\", \"banana\"]\n"
      ]
    },
    {
      "cell_type": "markdown",
      "source": [
        ""
      ],
      "metadata": {
        "id": "lflre1D8CK4N"
      }
    },
    {
      "cell_type": "code",
      "source": [
        "# using for loop\n",
        "new_fruits = []\n",
        "for fruit in fruits:\n",
        "  fruit = fruit.upper()\n",
        "  new_fruits.append(fruit)\n",
        "\n",
        "fruits = new_fruits\n",
        "print(fruits)"
      ],
      "metadata": {
        "colab": {
          "base_uri": "https://localhost:8080/"
        },
        "id": "Tu7X5QWfBgns",
        "outputId": "44c78456-458b-4936-d814-361ebf5b3220"
      },
      "execution_count": 2,
      "outputs": [
        {
          "output_type": "stream",
          "name": "stdout",
          "text": [
            "['APPLE', 'ORANGE', 'GRAPES', 'BANANA']\n"
          ]
        }
      ]
    },
    {
      "cell_type": "code",
      "source": [
        "# using list comprehension\n",
        "fruits = [fruit.upper() for fruit in fruits]\n",
        "print(fruits)\n"
      ],
      "metadata": {
        "colab": {
          "base_uri": "https://localhost:8080/"
        },
        "id": "oxtsOQoqCFy-",
        "outputId": "271826bb-0290-48bb-e456-47fe015d173c"
      },
      "execution_count": 4,
      "outputs": [
        {
          "output_type": "stream",
          "name": "stdout",
          "text": [
            "['APPLE', 'ORANGE', 'GRAPES', 'BANANA']\n"
          ]
        }
      ]
    },
    {
      "cell_type": "code",
      "source": [
        ""
      ],
      "metadata": {
        "id": "5VoXoS_CCGMy"
      },
      "execution_count": null,
      "outputs": []
    },
    {
      "cell_type": "markdown",
      "source": [
        ""
      ],
      "metadata": {
        "id": "6DJE7bg_CHPm"
      }
    }
  ]
}